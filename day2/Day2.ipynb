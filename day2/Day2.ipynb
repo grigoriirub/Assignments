{
 "cells": [
  {
   "cell_type": "code",
   "execution_count": 2,
   "id": "cb6be9d3-2279-4389-80d3-c4f6996425f3",
   "metadata": {},
   "outputs": [
    {
     "data": {
      "text/plain": [
       "25.132741228718345"
      ]
     },
     "execution_count": 2,
     "metadata": {},
     "output_type": "execute_result"
    }
   ],
   "source": [
    "radius = 4\n",
    "import math \n",
    "area = ((math.pi)*radius**2)\n",
    "circumference = 2*(math.pi)*radius\n",
    "\n",
    "circumference\n"
   ]
  },
  {
   "cell_type": "code",
   "execution_count": 3,
   "id": "052c728b-688b-4fb2-b601-41c060253ede",
   "metadata": {},
   "outputs": [
    {
     "data": {
      "text/plain": [
       "50.26548245743669"
      ]
     },
     "execution_count": 3,
     "metadata": {},
     "output_type": "execute_result"
    }
   ],
   "source": [
    "area"
   ]
  },
  {
   "cell_type": "code",
   "execution_count": 4,
   "id": "6c09041c-b144-4009-a4c5-d26df6de7022",
   "metadata": {},
   "outputs": [
    {
     "data": {
      "text/plain": [
       "10"
      ]
     },
     "execution_count": 4,
     "metadata": {},
     "output_type": "execute_result"
    }
   ],
   "source": [
    "width = 5\n",
    "length = 2\n",
    "area = width * length \n",
    "area"
   ]
  },
  {
   "cell_type": "code",
   "execution_count": 5,
   "id": "82b62d8d-e1dc-47ff-ad09-84f935e0dc50",
   "metadata": {},
   "outputs": [
    {
     "data": {
      "text/plain": [
       "25.132741228718345"
      ]
     },
     "execution_count": 5,
     "metadata": {},
     "output_type": "execute_result"
    }
   ],
   "source": [
    "circumference\n"
   ]
  },
  {
   "cell_type": "code",
   "execution_count": null,
   "id": "f63bcd13-a2b6-4c18-b067-079208e1e9ad",
   "metadata": {},
   "outputs": [],
   "source": []
  }
 ],
 "metadata": {
  "kernelspec": {
   "display_name": "Python 3 (ipykernel)",
   "language": "python",
   "name": "python3"
  },
  "language_info": {
   "codemirror_mode": {
    "name": "ipython",
    "version": 3
   },
   "file_extension": ".py",
   "mimetype": "text/x-python",
   "name": "python",
   "nbconvert_exporter": "python",
   "pygments_lexer": "ipython3",
   "version": "3.13.0"
  }
 },
 "nbformat": 4,
 "nbformat_minor": 5
}

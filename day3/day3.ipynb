{
 "cells": [
  {
   "cell_type": "code",
   "execution_count": 1,
   "id": "634c5dab-5d1e-4c47-af9f-d03c62c1f95b",
   "metadata": {},
   "outputs": [
    {
     "name": "stdin",
     "output_type": "stream",
     "text": [
      "Width of the rectangle:  9\n",
      "Height of the rectangle:  8\n",
      "Radius of the circle:  9\n"
     ]
    },
    {
     "name": "stdout",
     "output_type": "stream",
     "text": [
      "The area of the circle is: 254.46900494077323\n",
      "The circumference of the circle is: 56.548667764616276\n",
      "The area of the rectangle is: 72.0\n",
      "The circumference of the rectangle is: 34.0\n"
     ]
    }
   ],
   "source": [
    "import math\n",
    "width = float(input(\"Width of the rectangle: \"))\n",
    "length = float(input(\"Height of the rectangle: \"))\n",
    "radius = float(input(\"Radius of the circle: \"))\n",
    "circ_circle = 2 * math.pi * radius\n",
    "circ_rect = 2 * (width + length)\n",
    "area_circle = math.pi * radius ** 2\n",
    "area_rect = width * length\n",
    "print(f\"The area of the circle is: {area_circle}\")\n",
    "print(f\"The circumference of the circle is: {circ_circle}\")\n",
    "print(f\"The area of the rectangle is: {area_rect}\")\n",
    "print(f\"The circumference of the rectangle is: {circ_rect}\")"
   ]
  },
  {
   "cell_type": "code",
   "execution_count": null,
   "id": "9191c79a-fca4-4bf2-814f-866946b920ac",
   "metadata": {},
   "outputs": [],
   "source": []
  }
 ],
 "metadata": {
  "kernelspec": {
   "display_name": "Python 3 (ipykernel)",
   "language": "python",
   "name": "python3"
  },
  "language_info": {
   "codemirror_mode": {
    "name": "ipython",
    "version": 3
   },
   "file_extension": ".py",
   "mimetype": "text/x-python",
   "name": "python",
   "nbconvert_exporter": "python",
   "pygments_lexer": "ipython3",
   "version": "3.13.0"
  }
 },
 "nbformat": 4,
 "nbformat_minor": 5
}
